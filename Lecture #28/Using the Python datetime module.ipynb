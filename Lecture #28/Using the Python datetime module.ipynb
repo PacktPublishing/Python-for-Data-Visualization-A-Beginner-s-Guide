{
 "cells": [
  {
   "cell_type": "code",
   "execution_count": 12,
   "id": "d95a5b45",
   "metadata": {},
   "outputs": [
    {
     "name": "stdout",
     "output_type": "stream",
     "text": [
      "Current date and time: 2023-03-26 03:25:12.200013\n"
     ]
    }
   ],
   "source": [
    "import datetime\n",
    "\n",
    "# get the current date and time\n",
    "now = datetime.datetime.now()\n",
    "\n",
    "# print the current date and time\n",
    "print(\"Current date and time:\", now)\n"
   ]
  },
  {
   "cell_type": "code",
   "execution_count": 17,
   "id": "100309ff",
   "metadata": {},
   "outputs": [
    {
     "name": "stdout",
     "output_type": "stream",
     "text": [
      "Formatted date and time: 26/03/2023 03:27:36\n"
     ]
    }
   ],
   "source": [
    "import datetime\n",
    "\n",
    "# get the current date and time\n",
    "now = datetime.datetime.now()\n",
    "\n",
    "# format the date and time output\n",
    "formatted_date_time = now.strftime(\"%d/%m/%Y %H:%M:%S\")\n",
    "\n",
    "# print the formatted date and time\n",
    "print(\"Formatted date and time:\", formatted_date_time)\n"
   ]
  },
  {
   "cell_type": "code",
   "execution_count": 21,
   "id": "bf6b16ec",
   "metadata": {},
   "outputs": [
    {
     "name": "stdout",
     "output_type": "stream",
     "text": [
      "<class 'datetime.date'>\n",
      "31\n"
     ]
    }
   ],
   "source": [
    " import datetime\n",
    "\n",
    "# create two dates\n",
    "date1 = datetime.date(2022, 4, 1)\n",
    "date2 = datetime.date(2022, 3, 1)\n",
    "\n",
    "# subtract the two dates to get the difference\n",
    "difference = date1 - date2\n",
    "\n",
    "# print the difference in days\n",
    "print(difference.days)  # output: 31\n"
   ]
  },
  {
   "cell_type": "code",
   "execution_count": null,
   "id": "68603814",
   "metadata": {},
   "outputs": [],
   "source": []
  }
 ],
 "metadata": {
  "kernelspec": {
   "display_name": "Python 3 (ipykernel)",
   "language": "python",
   "name": "python3"
  },
  "language_info": {
   "codemirror_mode": {
    "name": "ipython",
    "version": 3
   },
   "file_extension": ".py",
   "mimetype": "text/x-python",
   "name": "python",
   "nbconvert_exporter": "python",
   "pygments_lexer": "ipython3",
   "version": "3.9.7"
  }
 },
 "nbformat": 4,
 "nbformat_minor": 5
}
