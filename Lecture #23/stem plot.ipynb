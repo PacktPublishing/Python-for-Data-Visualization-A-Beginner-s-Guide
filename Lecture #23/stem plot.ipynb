{
 "cells": [
  {
   "cell_type": "markdown",
   "id": "dcb94e5b",
   "metadata": {},
   "source": [
    "## Stem plot"
   ]
  },
  {
   "cell_type": "code",
   "execution_count": 15,
   "id": "0ec3840b",
   "metadata": {},
   "outputs": [],
   "source": [
    "import matplotlib.pyplot as plt"
   ]
  },
  {
   "cell_type": "code",
   "execution_count": 16,
   "id": "f9f77aec",
   "metadata": {},
   "outputs": [],
   "source": [
    "x = [1,2,3,4,5,6]\n",
    "y = [2,2,6,7,3,8]"
   ]
  },
  {
   "cell_type": "code",
   "execution_count": 48,
   "id": "a4f3e1c3",
   "metadata": {},
   "outputs": [
    {
     "data": {
      "image/png": "[encoded data removed]",
      "text/plain": [
       "<Figure size 432x288 with 1 Axes>"
      ]
     },
     "metadata": {
      "needs_background": "light"
     },
     "output_type": "display_data"
    }
   ],
   "source": [
    "plt.stem(x,y , linefmt = \":\" , markerfmt = 'ro' , bottom = 1 , basefmt = \"r\" , label=\"python\")\n",
    "plt.legend(loc = (0.7,0.6))\n",
    "plt.show()"
   ]
  },
  {
   "cell_type": "code",
   "execution_count": null,
   "id": "1f8f95b8",
   "metadata": {},
   "outputs": [],
   "source": []
  }
 ],
 "metadata": {
  "kernelspec": {
   "display_name": "Python 3 (ipykernel)",
   "language": "python",
   "name": "python3"
  },
  "language_info": {
   "codemirror_mode": {
    "name": "ipython",
    "version": 3
   },
   "file_extension": ".py",
   "mimetype": "text/x-python",
   "name": "python",
   "nbconvert_exporter": "python",
   "pygments_lexer": "ipython3",
   "version": "3.9.7"
  }
 },
 "nbformat": 4,
 "nbformat_minor": 5
}
