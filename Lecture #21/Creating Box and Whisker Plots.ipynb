{
 "cells": [
  {
   "cell_type": "code",
   "execution_count": 94,
   "id": "024e782b",
   "metadata": {},
   "outputs": [
    {
     "data": {
      "image/png": "[encoded data removed]",
      "text/plain": [
       "<Figure size 432x288 with 1 Axes>"
      ]
     },
     "metadata": {
      "needs_background": "light"
     },
     "output_type": "display_data"
    }
   ],
   "source": [
    "import matplotlib.pyplot as plt\n",
    "x = [10,20,30,40,50,60,70,120]\n",
    "plt.boxplot(x , notch =False , vert = True , widths = 0.2 , labels = ['UK'] ,showmeans = True , boxprops = dict(color= \"red\") ,capprops = dict(color = \"red\") , sym= \"g+\",  whiskerprops = dict(color = \"red\") )\n",
    "plt.show()"
   ]
  },
  {
   "cell_type": "code",
   "execution_count": 103,
   "id": "8d9a3751",
   "metadata": {},
   "outputs": [
    {
     "data": {
      "image/png": "[encoded data removed]",
      "text/plain": [
       "<Figure size 432x288 with 1 Axes>"
      ]
     },
     "metadata": {
      "needs_background": "light"
     },
     "output_type": "display_data"
    }
   ],
   "source": [
    "import matplotlib.pyplot as plt\n",
    "x = [10,20,30,40,50,60,70,120]\n",
    "x1 = [10,20,40,50,30,60,90]\n",
    "x2 = [10,20,40,50,70,90,130]\n",
    "\n",
    "\n",
    "y  = [x,x1,x2]\n",
    "\n",
    "plt.boxplot(y , notch =False , vert = True , widths = 0.2 , labels = ['PYTHON',\"C++\",\"JAVA\"]\n",
    "            ,showmeans = True , boxprops = dict(color= \"red\") ,capprops = dict(color = \"red\") , sym= \"g+\",  whiskerprops = dict(color = \"red\") )\n",
    "\n",
    "plt.show()"
   ]
  },
  {
   "cell_type": "code",
   "execution_count": null,
   "id": "50af3fe0",
   "metadata": {},
   "outputs": [],
   "source": []
  }
 ],
 "metadata": {
  "kernelspec": {
   "display_name": "Python 3 (ipykernel)",
   "language": "python",
   "name": "python3"
  },
  "language_info": {
   "codemirror_mode": {
    "name": "ipython",
    "version": 3
   },
   "file_extension": ".py",
   "mimetype": "text/x-python",
   "name": "python",
   "nbconvert_exporter": "python",
   "pygments_lexer": "ipython3",
   "version": "3.9.7"
  }
 },
 "nbformat": 4,
 "nbformat_minor": 5
}
